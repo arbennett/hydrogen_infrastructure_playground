{
 "cells": [
  {
   "cell_type": "code",
   "execution_count": 1,
   "id": "624ececb-3e40-4784-b11c-ead3e14def13",
   "metadata": {},
   "outputs": [
    {
     "name": "stdout",
     "output_type": "stream",
     "text": [
      "Populating the interactive namespace from numpy and matplotlib\n"
     ]
    }
   ],
   "source": [
    "%load_ext autoreload\n",
    "%autoreload 2\n",
    "%reload_ext autoreload\n",
    "%pylab inline\n",
    "import pytorch_lightning as pl\n",
    "from pytorch_lightning.callbacks import Callback\n",
    "\n",
    "# Set a bigger default plot size\n",
    "mpl.rcParams['figure.figsize'] = (10, 8)\n",
    "mpl.rcParams['font.size'] = 16"
   ]
  },
  {
   "cell_type": "markdown",
   "id": "a2553940-2b27-4ffa-ab29-77fd725cdf6e",
   "metadata": {},
   "source": [
    "## Example model & dataloader"
   ]
  },
  {
   "cell_type": "code",
   "execution_count": 2,
   "id": "fed290a2-e081-46a0-9569-a73b58fa1184",
   "metadata": {},
   "outputs": [],
   "source": [
    "from hydrogen_pg.dataloaders.taylor_example_dataloader import Conv2dDataModule\n",
    "from hydrogen_pg.models.taylor_example_model import RMM_NN_2D_B1\n",
    "from hydrogen_pg.utils.callbacks import MetricsCallback"
   ]
  },
  {
   "cell_type": "code",
   "execution_count": 3,
   "id": "34073ad3-3366-4c83-8c91-d7f546b87742",
   "metadata": {},
   "outputs": [],
   "source": [
    "in_vars = ['precipitation', 'temperature', 'slope_x', 'slope_y', 'saturation']\n",
    "out_vars = ['saturation']\n",
    "\n",
    "pfmeta_file = '/hydrodata/PFCLM/Taylor/Simulations/1990/Taylor_1990.out.pfmetadata'\n",
    "\n",
    "# Surface saturation\n",
    "z_strategy = -1\n",
    "dataloader = Conv2dDataModule(pfmeta_file, \n",
    "                              in_vars=in_vars, \n",
    "                              out_vars=out_vars, \n",
    "                              z_strategy=z_strategy)"
   ]
  },
  {
   "cell_type": "code",
   "execution_count": 4,
   "id": "9efd90bb-722d-4408-a0e5-33b4dcc953bd",
   "metadata": {},
   "outputs": [
    {
     "name": "stderr",
     "output_type": "stream",
     "text": [
      "/home/ab6361/software/miniconda/envs/all/lib/python3.9/site-packages/torch/nn/modules/lazy.py:178: UserWarning: Lazy modules are a new feature under heavy development so changes to the API or functionality can happen at any moment.\n",
      "  warnings.warn('Lazy modules are a new feature under heavy development '\n"
     ]
    }
   ],
   "source": [
    "model = RMM_NN_2D_B1(grid_size=dataloader.shape,\n",
    "                     in_vars=in_vars,\n",
    "                     out_vars=out_vars)\n",
    "model.configure_optimizers()\n",
    "model.configure_loss()"
   ]
  },
  {
   "cell_type": "markdown",
   "id": "dceb08ca-01da-42d5-ab9e-689191da6988",
   "metadata": {
    "tags": []
   },
   "source": [
    "## Validate dataloader and model can operate together\n",
    "\n",
    "Perhaps this goes in `utils` as `validate(model, dataloader)`"
   ]
  },
  {
   "cell_type": "code",
   "execution_count": 5,
   "id": "2daa9002-657d-4e35-bd92-82dfc9573ae8",
   "metadata": {},
   "outputs": [],
   "source": [
    "data_shape  = dataloader.shape\n",
    "data_in_features, data_out_features = dataloader.feature_names\n",
    "model_shape = model.shape\n",
    "model_in_features, model_out_features = model.feature_names\n",
    "\n",
    "assert data_shape == model_shape\n",
    "assert data_in_features == model_in_features\n",
    "assert data_out_features == model_out_features"
   ]
  },
  {
   "cell_type": "code",
   "execution_count": 6,
   "id": "577b6960-ab3c-4928-ba09-d0c6b29ac67a",
   "metadata": {},
   "outputs": [
    {
     "name": "stderr",
     "output_type": "stream",
     "text": [
      "GPU available: True, used: True\n",
      "TPU available: False, using: 0 TPU cores\n",
      "IPU available: False, using: 0 IPUs\n",
      "LOCAL_RANK: 0 - CUDA_VISIBLE_DEVICES: [0]\n",
      "/home/ab6361/software/miniconda/envs/all/lib/python3.9/site-packages/pytorch_lightning/core/memory.py:483: UserWarning: A layer with UninitializedParameter was found. Thus, the total number of parameters detected may be inaccurate.\n",
      "  warning_cache.warn(\n",
      "\n",
      "  | Name  | Type       | Params\n",
      "-------------------------------------\n",
      "0 | model | Sequential | 14.8 M\n",
      "-------------------------------------\n",
      "14.8 M    Trainable params\n",
      "0         Non-trainable params\n",
      "14.8 M    Total params\n",
      "59.231    Total estimated model params size (MB)\n"
     ]
    },
    {
     "data": {
      "application/vnd.jupyter.widget-view+json": {
       "model_id": "",
       "version_major": 2,
       "version_minor": 0
      },
      "text/plain": [
       "Validation sanity check: 0it [00:00, ?it/s]"
      ]
     },
     "metadata": {},
     "output_type": "display_data"
    },
    {
     "name": "stderr",
     "output_type": "stream",
     "text": [
      "/home/ab6361/software/miniconda/envs/all/lib/python3.9/site-packages/pytorch_lightning/trainer/data_loading.py:105: UserWarning: The dataloader, val dataloader 0, does not have many workers which may be a bottleneck. Consider increasing the value of the `num_workers` argument` (try 96 which is the number of cpus on this machine) in the `DataLoader` init to improve performance.\n",
      "  rank_zero_warn(\n",
      "/home/ab6361/software/miniconda/envs/all/lib/python3.9/site-packages/torch/nn/functional.py:718: UserWarning: Named tensors and all their associated APIs are an experimental feature and subject to change. Please do not use them for anything important until they are released as stable. (Triggered internally at  /tmp/pip-req-build-19kunu9c/c10/core/TensorImpl.h:1156.)\n",
      "  return torch.max_pool2d(input, kernel_size, stride, padding, dilation, ceil_mode)\n",
      "/home/ab6361/software/miniconda/envs/all/lib/python3.9/site-packages/pytorch_lightning/trainer/data_loading.py:105: UserWarning: The dataloader, train dataloader, does not have many workers which may be a bottleneck. Consider increasing the value of the `num_workers` argument` (try 96 which is the number of cpus on this machine) in the `DataLoader` init to improve performance.\n",
      "  rank_zero_warn(\n",
      "/home/ab6361/software/miniconda/envs/all/lib/python3.9/site-packages/pytorch_lightning/trainer/data_loading.py:326: UserWarning: The number of training samples (24) is smaller than the logging interval Trainer(log_every_n_steps=50). Set a lower value for log_every_n_steps if you want to see logs for the training epoch.\n",
      "  rank_zero_warn(\n"
     ]
    },
    {
     "data": {
      "application/vnd.jupyter.widget-view+json": {
       "model_id": "4c3e6882cec04ad5906a8e6ce10dbeac",
       "version_major": 2,
       "version_minor": 0
      },
      "text/plain": [
       "Training: -1it [00:00, ?it/s]"
      ]
     },
     "metadata": {},
     "output_type": "display_data"
    },
    {
     "name": "stderr",
     "output_type": "stream",
     "text": [
      "/home/ab6361/workspace/hydrogen_infrastructure_playground/hydrogen_pg/models/taylor_example_model.py:94: UserWarning: Using a target size (torch.Size([256, 1, 47, 45])) that is different to the input size (torch.Size([256, 47, 45])). This will likely lead to incorrect results due to broadcasting. Please ensure they have the same size.\n",
      "  loss = self.loss_fun(y_hat, y)\n",
      "/home/ab6361/workspace/hydrogen_infrastructure_playground/hydrogen_pg/models/taylor_example_model.py:94: UserWarning: Using a target size (torch.Size([243, 1, 47, 45])) that is different to the input size (torch.Size([243, 47, 45])). This will likely lead to incorrect results due to broadcasting. Please ensure they have the same size.\n",
      "  loss = self.loss_fun(y_hat, y)\n"
     ]
    },
    {
     "data": {
      "application/vnd.jupyter.widget-view+json": {
       "model_id": "",
       "version_major": 2,
       "version_minor": 0
      },
      "text/plain": [
       "Validating: 0it [00:00, ?it/s]"
      ]
     },
     "metadata": {},
     "output_type": "display_data"
    },
    {
     "data": {
      "application/vnd.jupyter.widget-view+json": {
       "model_id": "",
       "version_major": 2,
       "version_minor": 0
      },
      "text/plain": [
       "Validating: 0it [00:00, ?it/s]"
      ]
     },
     "metadata": {},
     "output_type": "display_data"
    },
    {
     "data": {
      "application/vnd.jupyter.widget-view+json": {
       "model_id": "",
       "version_major": 2,
       "version_minor": 0
      },
      "text/plain": [
       "Validating: 0it [00:00, ?it/s]"
      ]
     },
     "metadata": {},
     "output_type": "display_data"
    },
    {
     "data": {
      "application/vnd.jupyter.widget-view+json": {
       "model_id": "",
       "version_major": 2,
       "version_minor": 0
      },
      "text/plain": [
       "Validating: 0it [00:00, ?it/s]"
      ]
     },
     "metadata": {},
     "output_type": "display_data"
    },
    {
     "data": {
      "application/vnd.jupyter.widget-view+json": {
       "model_id": "",
       "version_major": 2,
       "version_minor": 0
      },
      "text/plain": [
       "Validating: 0it [00:00, ?it/s]"
      ]
     },
     "metadata": {},
     "output_type": "display_data"
    },
    {
     "data": {
      "application/vnd.jupyter.widget-view+json": {
       "model_id": "",
       "version_major": 2,
       "version_minor": 0
      },
      "text/plain": [
       "Validating: 0it [00:00, ?it/s]"
      ]
     },
     "metadata": {},
     "output_type": "display_data"
    },
    {
     "data": {
      "application/vnd.jupyter.widget-view+json": {
       "model_id": "",
       "version_major": 2,
       "version_minor": 0
      },
      "text/plain": [
       "Validating: 0it [00:00, ?it/s]"
      ]
     },
     "metadata": {},
     "output_type": "display_data"
    },
    {
     "data": {
      "application/vnd.jupyter.widget-view+json": {
       "model_id": "",
       "version_major": 2,
       "version_minor": 0
      },
      "text/plain": [
       "Validating: 0it [00:00, ?it/s]"
      ]
     },
     "metadata": {},
     "output_type": "display_data"
    },
    {
     "data": {
      "application/vnd.jupyter.widget-view+json": {
       "model_id": "",
       "version_major": 2,
       "version_minor": 0
      },
      "text/plain": [
       "Validating: 0it [00:00, ?it/s]"
      ]
     },
     "metadata": {},
     "output_type": "display_data"
    },
    {
     "data": {
      "application/vnd.jupyter.widget-view+json": {
       "model_id": "",
       "version_major": 2,
       "version_minor": 0
      },
      "text/plain": [
       "Validating: 0it [00:00, ?it/s]"
      ]
     },
     "metadata": {},
     "output_type": "display_data"
    }
   ],
   "source": [
    "metrics = MetricsCallback()\n",
    "trainer = pl.Trainer(max_epochs=10, gpus=1, callbacks=[metrics])\n",
    "trainer.fit(model, dataloader)"
   ]
  },
  {
   "cell_type": "code",
   "execution_count": 10,
   "id": "9e187ebe-33fd-4306-97e7-841bd7170e2a",
   "metadata": {},
   "outputs": [
    {
     "data": {
      "text/plain": [
       "(0.005, 0.02)"
      ]
     },
     "execution_count": 10,
     "metadata": {},
     "output_type": "execute_result"
    },
    {
     "data": {
      "image/png": "[encoded data removed]",
      "text/plain": [
       "<Figure size 720x576 with 1 Axes>"
      ]
     },
     "metadata": {
      "needs_background": "light"
     },
     "output_type": "display_data"
    }
   ],
   "source": [
    "plt.plot(metrics.metrics['train_loss'], label='Train loss')\n",
    "plt.plot(metrics.metrics['val_loss'], label='Validation loss')\n",
    "plt.legend()\n",
    "plt.xlabel('Epoch #')\n",
    "plt.ylabel('MSE Loss')\n",
    "plt.ylim([0.005, 0.02])"
   ]
  },
  {
   "cell_type": "code",
   "execution_count": 28,
   "id": "baa85867-91e4-4eed-858e-ddf742360671",
   "metadata": {},
   "outputs": [],
   "source": [
    "val_x, val_y = next(iter(dataloader.val_dataloader()))\n",
    "val_x = val_x[0:1]\n",
    "val_y = val_y[0:1].squeeze().cpu().detach().numpy()\n",
    "\n",
    "val_yhat = model(val_x)\n",
    "val_yhat = val_yhat.squeeze().cpu().detach().numpy()\n",
    "err = val_y - val_yhat"
   ]
  },
  {
   "cell_type": "code",
   "execution_count": 63,
   "id": "c313d6ff-46a1-4c3b-baa6-bc8cdb2115c7",
   "metadata": {},
   "outputs": [
    {
     "data": {
      "text/plain": [
       "Text(0.5, 1.0, 'Error')"
      ]
     },
     "execution_count": 63,
     "metadata": {},
     "output_type": "execute_result"
    },
    {
     "data": {
      "image/png": "[encoded data removed]",
      "text/plain": [
       "<Figure size 1584x504 with 5 Axes>"
      ]
     },
     "metadata": {
      "needs_background": "light"
     },
     "output_type": "display_data"
    }
   ],
   "source": [
    "fig, axes = plt.subplots(1, 5, figsize=(22, 7),\n",
    "                         gridspec_kw={'width_ratios': [1, 1, 0.1, 1, 0.1], 'height_ratios': [1]})\n",
    "\n",
    "sm = axes[0].imshow(val_y, vmin=0, vmax=1)\n",
    "axes[1].imshow(val_yhat, vmin=0, vmax=1)\n",
    "plt.colorbar(sm, cax=axes[2])\n",
    "sm = axes[3].imshow(err, cmap='coolwarm_r')\n",
    "plt.colorbar(sm, cax=axes[-1])\n",
    "\n",
    "for ax in axes[[0,1,3]]:\n",
    "    ax.axis('off')\n",
    "axes[0].set_title('True Saturation')\n",
    "axes[1].set_title('Predicted Saturation')\n",
    "axes[3].set_title('Error')"
   ]
  },
  {
   "cell_type": "code",
   "execution_count": null,
   "id": "9ca9e51c-1f68-42bb-bc50-06e9ada46af5",
   "metadata": {},
   "outputs": [],
   "source": []
  }
 ],
 "metadata": {
  "kernelspec": {
   "display_name": "all",
   "language": "python",
   "name": "all"
  },
  "language_info": {
   "codemirror_mode": {
    "name": "ipython",
    "version": 3
   },
   "file_extension": ".py",
   "mimetype": "text/x-python",
   "name": "python",
   "nbconvert_exporter": "python",
   "pygments_lexer": "ipython3",
   "version": "3.9.7"
  }
 },
 "nbformat": 4,
 "nbformat_minor": 5
}
