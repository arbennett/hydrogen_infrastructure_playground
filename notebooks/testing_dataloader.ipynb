{
 "cells": [
  {
   "cell_type": "code",
   "execution_count": null,
   "id": "5fcee7b8-f755-481a-a3d7-1a0805b81700",
   "metadata": {},
   "outputs": [],
   "source": [
    "%load_ext autoreload\n",
    "%autoreload 2\n",
    "%reload_ext autoreload\n",
    "%pylab inline\n",
    "import xarray as xr\n",
    "from tqdm.autonotebook import tqdm\n",
    "import pytorch_lightning as pl\n",
    "from pytorch_lightning.callbacks import Callback\n",
    "\n",
    "# Set a bigger default plot size\n",
    "mpl.rcParams['figure.figsize'] = (10, 8)\n",
    "mpl.rcParams['font.size'] = 16\n",
    "\n",
    "from hydrogen_pg.dataloaders.taylor_example_dataloader import Conv2dDataset\n",
    "from hydrogen_pg.dataloaders.taylor_example_dataloader import Conv2dDataModule\n",
    "from hydrogen_pg.models.taylor_example_model import RMM_NN_2D_B1\n",
    "from hydrogen_pg.utils.callbacks import MetricsCallback"
   ]
  },
  {
   "cell_type": "code",
   "execution_count": null,
   "id": "71a80c87-9dc1-4831-b3ba-5795b97bab51",
   "metadata": {},
   "outputs": [],
   "source": [
    "#pfmeta_file = '/hydrodata/PFCLM/Taylor/Simulations/1990/Taylor_1990.out.pfmetadata'"
   ]
  },
  {
   "cell_type": "code",
   "execution_count": null,
   "id": "b2dc0368-dfdd-4b67-b751-ce2bc680e8c5",
   "metadata": {},
   "outputs": [],
   "source": [
    "pfmeta_file = '/home/ab6361/small_CONUS1_2003_fake.out.pfmetadata'\n",
    "in_vars = ['precipitation', 'temperature', 'saturation']\n",
    "out_vars = ['saturation']\n",
    "\n",
    "# Surface saturation\n",
    "z_strategy = -1\n",
    "patch_sizes = {'x': 50, 'y': 50}\n",
    "\n",
    "dataset = Conv2dDataset(\n",
    "    pfmeta_file, \n",
    "    in_vars=in_vars, \n",
    "    out_vars=out_vars, \n",
    "    z_strategy=z_strategy,\n",
    "    patch_sizes=patch_sizes,\n",
    ")"
   ]
  },
  {
   "cell_type": "code",
   "execution_count": null,
   "id": "875334ec-04cf-403f-9a60-180169b8346a",
   "metadata": {},
   "outputs": [],
   "source": [
    "sample_inds = np.random.randint(0, len(dataset), size=9)\n",
    "to_np = lambda x: x.squeeze().detach().numpy()\n",
    "\n",
    "fig, axes = plt.subplots(3, 3, sharex=True, sharey=True, figsize=(12, 12))\n",
    "axes = axes.flatten()\n",
    "for idx, ax in tqdm(zip(sample_inds, axes)):\n",
    "    x, y = dataset[idx]\n",
    "    ax.imshow(to_np(y), vmin=0, vmax=1)\n",
    "    ax.axis('off')\n",
    "plt.tight_layout()"
   ]
  },
  {
   "cell_type": "code",
   "execution_count": null,
   "id": "e4742332-3fc3-4a12-9e41-bc76fc4525b3",
   "metadata": {},
   "outputs": [],
   "source": []
  },
  {
   "cell_type": "code",
   "execution_count": null,
   "id": "0d2409f9-03d1-4179-becb-6ea2efa8d2ab",
   "metadata": {},
   "outputs": [],
   "source": []
  },
  {
   "cell_type": "code",
   "execution_count": null,
   "id": "ce12cfd1-db4d-439b-86d8-ce618474d85a",
   "metadata": {},
   "outputs": [],
   "source": []
  },
  {
   "cell_type": "code",
   "execution_count": null,
   "id": "3e9b98b4-9a23-4865-b839-2f65d6deb1d3",
   "metadata": {},
   "outputs": [],
   "source": []
  },
  {
   "cell_type": "code",
   "execution_count": null,
   "id": "991a3433-17bc-4e17-a4ba-67928d379423",
   "metadata": {},
   "outputs": [],
   "source": [
    "datamodule = Conv2dDataModule(pfmeta_file, \n",
    "                              in_vars=in_vars, \n",
    "                              out_vars=out_vars, \n",
    "                              z_strategy=z_strategy)"
   ]
  },
  {
   "cell_type": "code",
   "execution_count": null,
   "id": "36868f9a-f8fb-4096-b838-f3c0334a92b8",
   "metadata": {},
   "outputs": [],
   "source": []
  },
  {
   "cell_type": "code",
   "execution_count": null,
   "id": "9efd90bb-722d-4408-a0e5-33b4dcc953bd",
   "metadata": {},
   "outputs": [],
   "source": [
    "model = RMM_NN_2D_B1(grid_size=datamodule.shape,\n",
    "                     in_vars=in_vars,\n",
    "                     out_vars=out_vars)\n",
    "model.configure_optimizers()\n",
    "model.configure_loss()"
   ]
  },
  {
   "cell_type": "markdown",
   "id": "dceb08ca-01da-42d5-ab9e-689191da6988",
   "metadata": {
    "tags": []
   },
   "source": [
    "## Validate dataloader and model can operate together\n",
    "\n",
    "Perhaps this goes in `utils` as `validate(model, dataloader)`"
   ]
  },
  {
   "cell_type": "code",
   "execution_count": null,
   "id": "2daa9002-657d-4e35-bd92-82dfc9573ae8",
   "metadata": {},
   "outputs": [],
   "source": [
    "data_shape  = datamodule.shape\n",
    "data_in_features, data_out_features = datamodule.feature_names\n",
    "model_shape = model.shape\n",
    "model_in_features, model_out_features = model.feature_names\n",
    "\n",
    "assert data_shape == model_shape\n",
    "assert data_in_features == model_in_features\n",
    "assert data_out_features == model_out_features"
   ]
  },
  {
   "cell_type": "code",
   "execution_count": null,
   "id": "577b6960-ab3c-4928-ba09-d0c6b29ac67a",
   "metadata": {},
   "outputs": [],
   "source": [
    "metrics = MetricsCallback()\n",
    "trainer = pl.Trainer(max_epochs=10, gpus=1, callbacks=[metrics])\n",
    "trainer.fit(model, datamodule)"
   ]
  },
  {
   "cell_type": "code",
   "execution_count": null,
   "id": "9e187ebe-33fd-4306-97e7-841bd7170e2a",
   "metadata": {},
   "outputs": [],
   "source": [
    "plt.plot(metrics.metrics['train_loss'], label='Train loss')\n",
    "plt.plot(metrics.metrics['val_loss'], label='Validation loss')\n",
    "plt.legend()\n",
    "plt.xlabel('Epoch #')\n",
    "plt.ylabel('MSE Loss')\n",
    "plt.ylim([0.00, 0.02])"
   ]
  },
  {
   "cell_type": "code",
   "execution_count": null,
   "id": "baa85867-91e4-4eed-858e-ddf742360671",
   "metadata": {},
   "outputs": [],
   "source": [
    "val_x, val_y = next(iter(dataloader.val_dataloader()))\n",
    "val_x = val_x[0:1]\n",
    "val_y = val_y[0:1].squeeze().cpu().detach().numpy()\n",
    "\n",
    "val_yhat = model(val_x)\n",
    "val_yhat = val_yhat.squeeze().cpu().detach().numpy()\n",
    "err = val_y - val_yhat"
   ]
  },
  {
   "cell_type": "code",
   "execution_count": null,
   "id": "c313d6ff-46a1-4c3b-baa6-bc8cdb2115c7",
   "metadata": {},
   "outputs": [],
   "source": [
    "fig, axes = plt.subplots(1, 5, figsize=(22, 7),\n",
    "                         gridspec_kw={'width_ratios': [1, 1, 0.1, 1, 0.1], 'height_ratios': [1]})\n",
    "\n",
    "sm = axes[0].imshow(val_y, vmin=0, vmax=1)\n",
    "axes[1].imshow(val_yhat, vmin=0, vmax=1)\n",
    "plt.colorbar(sm, cax=axes[2])\n",
    "sm = axes[3].imshow(err, cmap='coolwarm_r')\n",
    "plt.colorbar(sm, cax=axes[-1])\n",
    "\n",
    "for ax in axes[[0,1,3]]:\n",
    "    ax.axis('off')\n",
    "axes[0].set_title('True Saturation')\n",
    "axes[1].set_title('Predicted Saturation')\n",
    "axes[3].set_title('Error')"
   ]
  },
  {
   "cell_type": "code",
   "execution_count": null,
   "id": "9ca9e51c-1f68-42bb-bc50-06e9ada46af5",
   "metadata": {},
   "outputs": [],
   "source": []
  }
 ],
 "metadata": {
  "kernelspec": {
   "display_name": "all",
   "language": "python",
   "name": "all"
  },
  "language_info": {
   "codemirror_mode": {
    "name": "ipython",
    "version": 3
   },
   "file_extension": ".py",
   "mimetype": "text/x-python",
   "name": "python",
   "nbconvert_exporter": "python",
   "pygments_lexer": "ipython3",
   "version": "3.9.7"
  }
 },
 "nbformat": 4,
 "nbformat_minor": 5
}
